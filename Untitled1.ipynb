{
 "cells": [
  {
   "cell_type": "code",
   "execution_count": 13,
   "id": "02ec4173-b1ca-4ea9-a5f9-695e2d024d69",
   "metadata": {},
   "outputs": [
    {
     "name": "stdout",
     "output_type": "stream",
     "text": [
      "Cannot connect to www.youtube.com:443\n"
     ]
    }
   ],
   "source": [
    "import socket\n",
    "\n",
    "def check_connection(host, port):\n",
    "    try:\n",
    "        # 创建套接字对象\n",
    "        sock = socket.socket(socket.AF_INET, socket.SOCK_STREAM)\n",
    "        # 设置超时时间\n",
    "        sock.settimeout(5)\n",
    "        # 尝试连接主机和端口\n",
    "        result = sock.connect_ex((host, port))\n",
    "        # 检查连接结果\n",
    "        if result == 0:\n",
    "            print(f\"Connected to {host}:{port}\")\n",
    "        else:\n",
    "            print(f\"Cannot connect to {host}:{port}\")\n",
    "        # 关闭套接字连接\n",
    "        sock.close()\n",
    "    except socket.error as e:\n",
    "        print(f\"Error: {e}\")\n",
    "\n",
    "# 使用示例\n",
    "check_connection(\"www.youtube.com\", 443)"
   ]
  }
 ],
 "metadata": {
  "kernelspec": {
   "display_name": "chat",
   "language": "python",
   "name": "chat"
  },
  "language_info": {
   "codemirror_mode": {
    "name": "ipython",
    "version": 3
   },
   "file_extension": ".py",
   "mimetype": "text/x-python",
   "name": "python",
   "nbconvert_exporter": "python",
   "pygments_lexer": "ipython3",
   "version": "3.10.11"
  }
 },
 "nbformat": 4,
 "nbformat_minor": 5
}
